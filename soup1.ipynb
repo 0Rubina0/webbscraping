{
 "cells": [
  {
   "cell_type": "code",
   "execution_count": 1,
   "id": "993cb985",
   "metadata": {},
   "outputs": [],
   "source": [
    "import requests"
   ]
  },
  {
   "cell_type": "code",
   "execution_count": 2,
   "id": "e86f7b94",
   "metadata": {},
   "outputs": [],
   "source": [
    "from bs4 import BeautifulSoup as bs"
   ]
  },
  {
   "cell_type": "code",
   "execution_count": 9,
   "id": "44e6f4f8",
   "metadata": {},
   "outputs": [
    {
     "name": "stdout",
     "output_type": "stream",
     "text": [
      "<html>\n",
      " <head>\n",
      "  <title>\n",
      "   HTML Example\n",
      "  </title>\n",
      " </head>\n",
      " <body>\n",
      "  <div align=\"middle\">\n",
      "   <h1>\n",
      "    HTML Webpage\n",
      "   </h1>\n",
      "   <p>\n",
      "    Link to more interesting example:\n",
      "    <a href=\"https://keithgalli.github.io/web-scraping/webpage.html\">\n",
      "     keithgalli.github.io/web-scraping/webpage.html\n",
      "    </a>\n",
      "   </p>\n",
      "  </div>\n",
      "  <h2>\n",
      "   A Header\n",
      "  </h2>\n",
      "  <p>\n",
      "   <i>\n",
      "    Some italicized text\n",
      "   </i>\n",
      "  </p>\n",
      "  <h2>\n",
      "   Another header\n",
      "  </h2>\n",
      "  <p id=\"paragraph-id\">\n",
      "   <b>\n",
      "    Some bold text\n",
      "   </b>\n",
      "  </p>\n",
      " </body>\n",
      "</html>\n",
      "\n"
     ]
    }
   ],
   "source": [
    "r = requests.get(\"https://keithgalli.github.io/web-scraping/example.html\")\n",
    "soup = bs(r.content)\n",
    "print(soup.prettify())"
   ]
  },
  {
   "cell_type": "code",
   "execution_count": 17,
   "id": "620607ca",
   "metadata": {},
   "outputs": [
    {
     "name": "stdout",
     "output_type": "stream",
     "text": [
      "<head>\n",
      "<title>HTML Example</title>\n",
      "</head>\n"
     ]
    }
   ],
   "source": [
    "header =  soup.find(\"head\")\n",
    "print(header)"
   ]
  },
  {
   "cell_type": "code",
   "execution_count": 26,
   "id": "74fd4591",
   "metadata": {},
   "outputs": [
    {
     "data": {
      "text/plain": [
       "'HTML Example'"
      ]
     },
     "execution_count": 26,
     "metadata": {},
     "output_type": "execute_result"
    }
   ],
   "source": [
    "titles = soup.find(\"title\")\n",
    "titles.string"
   ]
  },
  {
   "cell_type": "code",
   "execution_count": 34,
   "id": "c2c48f16",
   "metadata": {},
   "outputs": [
    {
     "name": "stdout",
     "output_type": "stream",
     "text": [
      "<body>\n",
      " <div align=\"middle\">\n",
      "  <h1>\n",
      "   HTML Webpage\n",
      "  </h1>\n",
      "  <p>\n",
      "   Link to more interesting example:\n",
      "   <a href=\"https://keithgalli.github.io/web-scraping/webpage.html\">\n",
      "    keithgalli.github.io/web-scraping/webpage.html\n",
      "   </a>\n",
      "  </p>\n",
      " </div>\n",
      " <h2>\n",
      "  A Header\n",
      " </h2>\n",
      " <p>\n",
      "  <i>\n",
      "   Some italicized text\n",
      "  </i>\n",
      " </p>\n",
      " <h2>\n",
      "  Another header\n",
      " </h2>\n",
      " <p id=\"paragraph-id\">\n",
      "  <b>\n",
      "   Some bold text\n",
      "  </b>\n",
      " </p>\n",
      "</body>\n",
      "\n"
     ]
    }
   ],
   "source": [
    "Body = soup.find(\"body\")\n",
    "print(Body.prettify())"
   ]
  },
  {
   "cell_type": "code",
   "execution_count": 37,
   "id": "b354e424",
   "metadata": {},
   "outputs": [
    {
     "name": "stdout",
     "output_type": "stream",
     "text": [
      "\n",
      "HTML Webpage\n",
      "Link to more interesting example: keithgalli.github.io/web-scraping/webpage.html\n",
      "\n"
     ]
    }
   ],
   "source": [
    "division = soup.find(\"div\")\n",
    "print(division.get_text())"
   ]
  },
  {
   "cell_type": "code",
   "execution_count": 38,
   "id": "e1b16107",
   "metadata": {},
   "outputs": [
    {
     "name": "stdout",
     "output_type": "stream",
     "text": [
      "<a href=\"https://keithgalli.github.io/web-scraping/webpage.html\">keithgalli.github.io/web-scraping/webpage.html</a>\n"
     ]
    }
   ],
   "source": [
    "link = soup.find(\"a\")\n",
    "print(link)"
   ]
  },
  {
   "cell_type": "code",
   "execution_count": 39,
   "id": "26b394f6",
   "metadata": {},
   "outputs": [
    {
     "name": "stdout",
     "output_type": "stream",
     "text": [
      "keithgalli.github.io/web-scraping/webpage.html\n"
     ]
    }
   ],
   "source": [
    "link = soup.find(\"a\")\n",
    "print(link.get_text())"
   ]
  },
  {
   "cell_type": "code",
   "execution_count": 41,
   "id": "be9d2e72",
   "metadata": {},
   "outputs": [
    {
     "data": {
      "text/plain": [
       "'https://keithgalli.github.io/web-scraping/webpage.html'"
      ]
     },
     "execution_count": 41,
     "metadata": {},
     "output_type": "execute_result"
    }
   ],
   "source": [
    "link = soup.find(\"a\")\n",
    "link[\"href\"]"
   ]
  },
  {
   "cell_type": "code",
   "execution_count": 47,
   "id": "e4f0213a",
   "metadata": {},
   "outputs": [
    {
     "data": {
      "text/plain": [
       "[<p>Link to more interesting example: <a href=\"https://keithgalli.github.io/web-scraping/webpage.html\">keithgalli.github.io/web-scraping/webpage.html</a></p>,\n",
       " <p><i>Some italicized text</i></p>,\n",
       " <p id=\"paragraph-id\"><b>Some bold text</b></p>]"
      ]
     },
     "execution_count": 47,
     "metadata": {},
     "output_type": "execute_result"
    }
   ],
   "source": [
    "paragraph = soup.find_all(\"p\")\n",
    "paragraph"
   ]
  },
  {
   "cell_type": "code",
   "execution_count": 48,
   "id": "187a5fd3",
   "metadata": {},
   "outputs": [
    {
     "data": {
      "text/plain": [
       "[<h2>A Header</h2>, <h2>Another header</h2>]"
      ]
     },
     "execution_count": 48,
     "metadata": {},
     "output_type": "execute_result"
    }
   ],
   "source": [
    "headerr = soup.find_all(\"h2\")\n",
    "headerr"
   ]
  },
  {
   "cell_type": "code",
   "execution_count": 50,
   "id": "951f3b62",
   "metadata": {},
   "outputs": [
    {
     "data": {
      "text/plain": [
       "[<h2>A Header</h2>, <h2>Another header</h2>]"
      ]
     },
     "execution_count": 50,
     "metadata": {},
     "output_type": "execute_result"
    }
   ],
   "source": [
    "headerr = soup.find_all(\"h2\")\n",
    "headerr"
   ]
  },
  {
   "cell_type": "code",
   "execution_count": 51,
   "id": "a3b20f0d",
   "metadata": {},
   "outputs": [
    {
     "data": {
      "text/plain": [
       "<h2>A Header</h2>"
      ]
     },
     "execution_count": 51,
     "metadata": {},
     "output_type": "execute_result"
    }
   ],
   "source": [
    "headerr = soup.find(\"h2\")\n",
    "headerr"
   ]
  },
  {
   "cell_type": "code",
   "execution_count": 52,
   "id": "f8bd1fa6",
   "metadata": {},
   "outputs": [
    {
     "name": "stdout",
     "output_type": "stream",
     "text": [
      "A Header\n"
     ]
    }
   ],
   "source": [
    "headerr = soup.find(\"h2\")\n",
    "print(headerr.get_text())"
   ]
  },
  {
   "cell_type": "code",
   "execution_count": 55,
   "id": "9c4e69a6",
   "metadata": {},
   "outputs": [
    {
     "data": {
      "text/plain": [
       "[<h2>A Header</h2>, <h2>Another header</h2>]"
      ]
     },
     "execution_count": 55,
     "metadata": {},
     "output_type": "execute_result"
    }
   ],
   "source": [
    "import re\n",
    "headers = soup.find_all(\"h2\",string = re.compile(\"(H|h)eader\"))\n",
    "headers"
   ]
  },
  {
   "cell_type": "code",
   "execution_count": 68,
   "id": "96814176",
   "metadata": {},
   "outputs": [
    {
     "data": {
      "text/plain": [
       "[<h2>A Header</h2>, <h2>Another header</h2>]"
      ]
     },
     "execution_count": 68,
     "metadata": {},
     "output_type": "execute_result"
    }
   ],
   "source": [
    "\n",
    "headers = soup.find_all(\"h2\",string = re.compile(\"(H|h)eader\"))\n",
    "headers"
   ]
  },
  {
   "cell_type": "code",
   "execution_count": 70,
   "id": "00e8e7f4",
   "metadata": {},
   "outputs": [
    {
     "data": {
      "text/plain": [
       "'paragraph-id'"
      ]
     },
     "execution_count": 70,
     "metadata": {},
     "output_type": "execute_result"
    }
   ],
   "source": [
    "\n",
    "\n",
    "para = soup.find(\"p\" , string =re.compile(\"b\"))\n",
    "para[\"id\"]"
   ]
  },
  {
   "cell_type": "code",
   "execution_count": null,
   "id": "0000afd1",
   "metadata": {},
   "outputs": [],
   "source": []
  }
 ],
 "metadata": {
  "kernelspec": {
   "display_name": "Python 3 (ipykernel)",
   "language": "python",
   "name": "python3"
  },
  "language_info": {
   "codemirror_mode": {
    "name": "ipython",
    "version": 3
   },
   "file_extension": ".py",
   "mimetype": "text/x-python",
   "name": "python",
   "nbconvert_exporter": "python",
   "pygments_lexer": "ipython3",
   "version": "3.10.1"
  }
 },
 "nbformat": 4,
 "nbformat_minor": 5
}
